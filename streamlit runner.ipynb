{
 "cells": [
  {
   "cell_type": "code",
   "execution_count": 1,
   "id": "5c01b6f8",
   "metadata": {},
   "outputs": [],
   "source": [
    "%%capture\n",
    "!pip install streamlit"
   ]
  },
  {
   "cell_type": "code",
   "execution_count": 7,
   "id": "e680127c",
   "metadata": {},
   "outputs": [
    {
     "name": "stdout",
     "output_type": "stream",
     "text": [
      "Requirement already satisfied: librosa in c:\\users\\gen80\\anaconda3\\lib\\site-packages (0.8.1)\n",
      "Requirement already satisfied: numba in c:\\users\\gen80\\anaconda3\\lib\\site-packages (0.55.2)\n",
      "Requirement already satisfied: numpy>=1.15.0 in c:\\users\\gen80\\anaconda3\\lib\\site-packages (from librosa) (1.21.0)\n",
      "Requirement already satisfied: soundfile>=0.10.2 in c:\\users\\gen80\\anaconda3\\lib\\site-packages (from librosa) (0.12.1)\n",
      "Requirement already satisfied: packaging>=20.0 in c:\\users\\gen80\\anaconda3\\lib\\site-packages (from librosa) (21.3)\n",
      "Requirement already satisfied: scikit-learn!=0.19.0,>=0.14.0 in c:\\users\\gen80\\anaconda3\\lib\\site-packages (from librosa) (1.0.2)\n",
      "Requirement already satisfied: audioread>=2.0.0 in c:\\users\\gen80\\anaconda3\\lib\\site-packages (from librosa) (3.0.0)\n",
      "Requirement already satisfied: scipy>=1.0.0 in c:\\users\\gen80\\anaconda3\\lib\\site-packages (from librosa) (1.9.1)\n",
      "Requirement already satisfied: joblib>=0.14 in c:\\users\\gen80\\anaconda3\\lib\\site-packages (from librosa) (1.1.0)\n",
      "Requirement already satisfied: decorator>=3.0.0 in c:\\users\\gen80\\anaconda3\\lib\\site-packages (from librosa) (5.1.1)\n",
      "Requirement already satisfied: resampy>=0.2.2 in c:\\users\\gen80\\anaconda3\\lib\\site-packages (from librosa) (0.4.2)\n",
      "Requirement already satisfied: pooch>=1.0 in c:\\users\\gen80\\anaconda3\\lib\\site-packages (from librosa) (1.7.0)\n",
      "Requirement already satisfied: llvmlite<0.39,>=0.38.0rc1 in c:\\users\\gen80\\anaconda3\\lib\\site-packages (from numba) (0.38.0)\n",
      "Requirement already satisfied: setuptools in c:\\users\\gen80\\anaconda3\\lib\\site-packages (from numba) (63.4.1)\n",
      "Requirement already satisfied: pyparsing!=3.0.5,>=2.0.2 in c:\\users\\gen80\\anaconda3\\lib\\site-packages (from packaging>=20.0->librosa) (3.0.9)\n",
      "Requirement already satisfied: requests>=2.19.0 in c:\\users\\gen80\\anaconda3\\lib\\site-packages (from pooch>=1.0->librosa) (2.28.1)\n",
      "Requirement already satisfied: platformdirs>=2.5.0 in c:\\users\\gen80\\anaconda3\\lib\\site-packages (from pooch>=1.0->librosa) (2.5.2)\n",
      "Requirement already satisfied: threadpoolctl>=2.0.0 in c:\\users\\gen80\\anaconda3\\lib\\site-packages (from scikit-learn!=0.19.0,>=0.14.0->librosa) (2.2.0)\n",
      "Requirement already satisfied: cffi>=1.0 in c:\\users\\gen80\\anaconda3\\lib\\site-packages (from soundfile>=0.10.2->librosa) (1.15.1)\n",
      "Requirement already satisfied: pycparser in c:\\users\\gen80\\anaconda3\\lib\\site-packages (from cffi>=1.0->soundfile>=0.10.2->librosa) (2.21)\n",
      "Requirement already satisfied: urllib3<1.27,>=1.21.1 in c:\\users\\gen80\\anaconda3\\lib\\site-packages (from requests>=2.19.0->pooch>=1.0->librosa) (1.26.11)\n",
      "Requirement already satisfied: charset-normalizer<3,>=2 in c:\\users\\gen80\\anaconda3\\lib\\site-packages (from requests>=2.19.0->pooch>=1.0->librosa) (2.0.4)\n",
      "Requirement already satisfied: certifi>=2017.4.17 in c:\\users\\gen80\\anaconda3\\lib\\site-packages (from requests>=2.19.0->pooch>=1.0->librosa) (2022.12.7)\n",
      "Requirement already satisfied: idna<4,>=2.5 in c:\\users\\gen80\\anaconda3\\lib\\site-packages (from requests>=2.19.0->pooch>=1.0->librosa) (3.3)\n"
     ]
    },
    {
     "name": "stderr",
     "output_type": "stream",
     "text": [
      "WARNING: Ignoring invalid distribution -rotobuf (c:\\users\\gen80\\anaconda3\\lib\\site-packages)\n",
      "WARNING: Ignoring invalid distribution -rotobuf (c:\\users\\gen80\\anaconda3\\lib\\site-packages)\n",
      "WARNING: Ignoring invalid distribution -rotobuf (c:\\users\\gen80\\anaconda3\\lib\\site-packages)\n",
      "WARNING: Ignoring invalid distribution -rotobuf (c:\\users\\gen80\\anaconda3\\lib\\site-packages)\n",
      "WARNING: Ignoring invalid distribution -rotobuf (c:\\users\\gen80\\anaconda3\\lib\\site-packages)\n",
      "WARNING: Ignoring invalid distribution -rotobuf (c:\\users\\gen80\\anaconda3\\lib\\site-packages)\n"
     ]
    }
   ],
   "source": [
    "!pip install librosa numba"
   ]
  },
  {
   "cell_type": "code",
   "execution_count": 5,
   "id": "8f3dbc48",
   "metadata": {},
   "outputs": [
    {
     "name": "stdout",
     "output_type": "stream",
     "text": [
      "Requirement already satisfied: torch in c:\\users\\gen80\\anaconda3\\lib\\site-packages (2.0.0)\n",
      "Requirement already satisfied: torchaudio in c:\\users\\gen80\\anaconda3\\lib\\site-packages (2.0.1)\n",
      "Collecting numpy==1.21\n",
      "  Using cached numpy-1.21.0-cp39-cp39-win_amd64.whl (14.0 MB)\n",
      "Requirement already satisfied: tqdm in c:\\users\\gen80\\anaconda3\\lib\\site-packages (4.64.1)\n",
      "Requirement already satisfied: soundfile in c:\\users\\gen80\\anaconda3\\lib\\site-packages (0.12.1)\n",
      "Requirement already satisfied: basic_pitch in c:\\users\\gen80\\appdata\\roaming\\python\\python39\\site-packages (0.2.4)\n",
      "Requirement already satisfied: MIDIUtil in c:\\users\\gen80\\anaconda3\\lib\\site-packages (1.2.1)\n",
      "Requirement already satisfied: filelock in c:\\users\\gen80\\anaconda3\\lib\\site-packages (from torch) (3.6.0)\n",
      "Requirement already satisfied: typing-extensions in c:\\users\\gen80\\anaconda3\\lib\\site-packages (from torch) (4.3.0)\n",
      "Requirement already satisfied: networkx in c:\\users\\gen80\\anaconda3\\lib\\site-packages (from torch) (2.8.4)\n",
      "Requirement already satisfied: jinja2 in c:\\users\\gen80\\anaconda3\\lib\\site-packages (from torch) (2.11.3)\n",
      "Requirement already satisfied: sympy in c:\\users\\gen80\\anaconda3\\lib\\site-packages (from torch) (1.10.1)\n",
      "Requirement already satisfied: colorama in c:\\users\\gen80\\anaconda3\\lib\\site-packages (from tqdm) (0.4.5)\n",
      "Requirement already satisfied: cffi>=1.0 in c:\\users\\gen80\\anaconda3\\lib\\site-packages (from soundfile) (1.15.1)\n",
      "Requirement already satisfied: scipy>=1.4.1 in c:\\users\\gen80\\anaconda3\\lib\\site-packages (from basic_pitch) (1.9.1)\n",
      "Requirement already satisfied: resampy>=0.2.2 in c:\\users\\gen80\\anaconda3\\lib\\site-packages (from basic_pitch) (0.4.2)\n",
      "Requirement already satisfied: pretty-midi>=0.2.9 in c:\\users\\gen80\\appdata\\roaming\\python\\python39\\site-packages (from basic_pitch) (0.2.10)\n",
      "Requirement already satisfied: tensorflow<2.12,>=2.4.1 in c:\\users\\gen80\\appdata\\roaming\\python\\python39\\site-packages (from basic_pitch) (2.11.1)\n",
      "Requirement already satisfied: librosa>=0.8.0 in c:\\users\\gen80\\anaconda3\\lib\\site-packages (from basic_pitch) (0.8.1)\n",
      "Requirement already satisfied: mir-eval>=0.6 in c:\\users\\gen80\\appdata\\roaming\\python\\python39\\site-packages (from basic_pitch) (0.7)\n",
      "Requirement already satisfied: pycparser in c:\\users\\gen80\\anaconda3\\lib\\site-packages (from cffi>=1.0->soundfile) (2.21)\n",
      "Requirement already satisfied: scikit-learn!=0.19.0,>=0.14.0 in c:\\users\\gen80\\anaconda3\\lib\\site-packages (from librosa>=0.8.0->basic_pitch) (1.0.2)\n",
      "Requirement already satisfied: audioread>=2.0.0 in c:\\users\\gen80\\anaconda3\\lib\\site-packages (from librosa>=0.8.0->basic_pitch) (3.0.0)\n",
      "Requirement already satisfied: pooch>=1.0 in c:\\users\\gen80\\anaconda3\\lib\\site-packages (from librosa>=0.8.0->basic_pitch) (1.7.0)\n",
      "Requirement already satisfied: joblib>=0.14 in c:\\users\\gen80\\anaconda3\\lib\\site-packages (from librosa>=0.8.0->basic_pitch) (1.1.0)\n",
      "Requirement already satisfied: packaging>=20.0 in c:\\users\\gen80\\anaconda3\\lib\\site-packages (from librosa>=0.8.0->basic_pitch) (21.3)\n",
      "Requirement already satisfied: decorator>=3.0.0 in c:\\users\\gen80\\anaconda3\\lib\\site-packages (from librosa>=0.8.0->basic_pitch) (5.1.1)\n",
      "Requirement already satisfied: numba>=0.43.0 in c:\\users\\gen80\\anaconda3\\lib\\site-packages (from librosa>=0.8.0->basic_pitch) (0.55.2)\n",
      "Requirement already satisfied: six in c:\\users\\gen80\\anaconda3\\lib\\site-packages (from mir-eval>=0.6->basic_pitch) (1.16.0)\n",
      "Requirement already satisfied: future in c:\\users\\gen80\\anaconda3\\lib\\site-packages (from mir-eval>=0.6->basic_pitch) (0.18.2)\n",
      "Requirement already satisfied: mido>=1.1.16 in c:\\users\\gen80\\anaconda3\\lib\\site-packages (from pretty-midi>=0.2.9->basic_pitch) (1.2.10)\n",
      "Requirement already satisfied: tensorflow-intel==2.11.1 in c:\\users\\gen80\\appdata\\roaming\\python\\python39\\site-packages (from tensorflow<2.12,>=2.4.1->basic_pitch) (2.11.1)\n",
      "Requirement already satisfied: keras<2.12,>=2.11.0 in c:\\users\\gen80\\appdata\\roaming\\python\\python39\\site-packages (from tensorflow-intel==2.11.1->tensorflow<2.12,>=2.4.1->basic_pitch) (2.11.0)\n",
      "Requirement already satisfied: termcolor>=1.1.0 in c:\\users\\gen80\\anaconda3\\lib\\site-packages (from tensorflow-intel==2.11.1->tensorflow<2.12,>=2.4.1->basic_pitch) (2.2.0)\n",
      "Requirement already satisfied: astunparse>=1.6.0 in c:\\users\\gen80\\anaconda3\\lib\\site-packages (from tensorflow-intel==2.11.1->tensorflow<2.12,>=2.4.1->basic_pitch) (1.6.3)\n",
      "Requirement already satisfied: h5py>=2.9.0 in c:\\users\\gen80\\anaconda3\\lib\\site-packages (from tensorflow-intel==2.11.1->tensorflow<2.12,>=2.4.1->basic_pitch) (3.7.0)\n",
      "Requirement already satisfied: gast<=0.4.0,>=0.2.1 in c:\\users\\gen80\\anaconda3\\lib\\site-packages (from tensorflow-intel==2.11.1->tensorflow<2.12,>=2.4.1->basic_pitch) (0.4.0)\n",
      "Requirement already satisfied: grpcio<2.0,>=1.24.3 in c:\\users\\gen80\\anaconda3\\lib\\site-packages (from tensorflow-intel==2.11.1->tensorflow<2.12,>=2.4.1->basic_pitch) (1.53.0)\n",
      "Requirement already satisfied: opt-einsum>=2.3.2 in c:\\users\\gen80\\anaconda3\\lib\\site-packages (from tensorflow-intel==2.11.1->tensorflow<2.12,>=2.4.1->basic_pitch) (3.3.0)\n",
      "Requirement already satisfied: tensorboard<2.12,>=2.11 in c:\\users\\gen80\\appdata\\roaming\\python\\python39\\site-packages (from tensorflow-intel==2.11.1->tensorflow<2.12,>=2.4.1->basic_pitch) (2.11.2)\n",
      "Requirement already satisfied: tensorflow-estimator<2.12,>=2.11.0 in c:\\users\\gen80\\anaconda3\\lib\\site-packages (from tensorflow-intel==2.11.1->tensorflow<2.12,>=2.4.1->basic_pitch) (2.11.0)\n",
      "Requirement already satisfied: google-pasta>=0.1.1 in c:\\users\\gen80\\anaconda3\\lib\\site-packages (from tensorflow-intel==2.11.1->tensorflow<2.12,>=2.4.1->basic_pitch) (0.2.0)\n",
      "Requirement already satisfied: wrapt>=1.11.0 in c:\\users\\gen80\\anaconda3\\lib\\site-packages (from tensorflow-intel==2.11.1->tensorflow<2.12,>=2.4.1->basic_pitch) (1.14.1)\n",
      "Requirement already satisfied: libclang>=13.0.0 in c:\\users\\gen80\\anaconda3\\lib\\site-packages (from tensorflow-intel==2.11.1->tensorflow<2.12,>=2.4.1->basic_pitch) (16.0.0)\n",
      "Requirement already satisfied: absl-py>=1.0.0 in c:\\users\\gen80\\anaconda3\\lib\\site-packages (from tensorflow-intel==2.11.1->tensorflow<2.12,>=2.4.1->basic_pitch) (1.4.0)\n",
      "Requirement already satisfied: tensorflow-io-gcs-filesystem>=0.23.1 in c:\\users\\gen80\\anaconda3\\lib\\site-packages (from tensorflow-intel==2.11.1->tensorflow<2.12,>=2.4.1->basic_pitch) (0.31.0)\n",
      "Requirement already satisfied: flatbuffers>=2.0 in c:\\users\\gen80\\anaconda3\\lib\\site-packages (from tensorflow-intel==2.11.1->tensorflow<2.12,>=2.4.1->basic_pitch) (23.3.3)\n",
      "Requirement already satisfied: setuptools in c:\\users\\gen80\\anaconda3\\lib\\site-packages (from tensorflow-intel==2.11.1->tensorflow<2.12,>=2.4.1->basic_pitch) (63.4.1)\n",
      "Requirement already satisfied: protobuf<3.20,>=3.9.2 in c:\\users\\gen80\\anaconda3\\lib\\site-packages (from tensorflow-intel==2.11.1->tensorflow<2.12,>=2.4.1->basic_pitch) (3.19.6)\n",
      "Requirement already satisfied: MarkupSafe>=0.23 in c:\\users\\gen80\\anaconda3\\lib\\site-packages (from jinja2->torch) (2.0.1)\n",
      "Requirement already satisfied: mpmath>=0.19 in c:\\users\\gen80\\anaconda3\\lib\\site-packages (from sympy->torch) (1.2.1)\n",
      "Requirement already satisfied: llvmlite<0.39,>=0.38.0rc1 in c:\\users\\gen80\\anaconda3\\lib\\site-packages (from numba>=0.43.0->librosa>=0.8.0->basic_pitch) (0.38.0)\n",
      "Requirement already satisfied: pyparsing!=3.0.5,>=2.0.2 in c:\\users\\gen80\\anaconda3\\lib\\site-packages (from packaging>=20.0->librosa>=0.8.0->basic_pitch) (3.0.9)\n",
      "Requirement already satisfied: requests>=2.19.0 in c:\\users\\gen80\\anaconda3\\lib\\site-packages (from pooch>=1.0->librosa>=0.8.0->basic_pitch) (2.28.1)\n",
      "Requirement already satisfied: platformdirs>=2.5.0 in c:\\users\\gen80\\anaconda3\\lib\\site-packages (from pooch>=1.0->librosa>=0.8.0->basic_pitch) (2.5.2)\n",
      "Requirement already satisfied: threadpoolctl>=2.0.0 in c:\\users\\gen80\\anaconda3\\lib\\site-packages (from scikit-learn!=0.19.0,>=0.14.0->librosa>=0.8.0->basic_pitch) (2.2.0)\n",
      "Requirement already satisfied: wheel<1.0,>=0.23.0 in c:\\users\\gen80\\anaconda3\\lib\\site-packages (from astunparse>=1.6.0->tensorflow-intel==2.11.1->tensorflow<2.12,>=2.4.1->basic_pitch) (0.37.1)\n",
      "Requirement already satisfied: idna<4,>=2.5 in c:\\users\\gen80\\anaconda3\\lib\\site-packages (from requests>=2.19.0->pooch>=1.0->librosa>=0.8.0->basic_pitch) (3.3)\n",
      "Requirement already satisfied: urllib3<1.27,>=1.21.1 in c:\\users\\gen80\\anaconda3\\lib\\site-packages (from requests>=2.19.0->pooch>=1.0->librosa>=0.8.0->basic_pitch) (1.26.11)\n",
      "Requirement already satisfied: certifi>=2017.4.17 in c:\\users\\gen80\\anaconda3\\lib\\site-packages (from requests>=2.19.0->pooch>=1.0->librosa>=0.8.0->basic_pitch) (2022.12.7)\n",
      "Requirement already satisfied: charset-normalizer<3,>=2 in c:\\users\\gen80\\anaconda3\\lib\\site-packages (from requests>=2.19.0->pooch>=1.0->librosa>=0.8.0->basic_pitch) (2.0.4)\n",
      "Requirement already satisfied: tensorboard-data-server<0.7.0,>=0.6.0 in c:\\users\\gen80\\anaconda3\\lib\\site-packages (from tensorboard<2.12,>=2.11->tensorflow-intel==2.11.1->tensorflow<2.12,>=2.4.1->basic_pitch) (0.6.1)\n",
      "Requirement already satisfied: google-auth<3,>=1.6.3 in c:\\users\\gen80\\anaconda3\\lib\\site-packages (from tensorboard<2.12,>=2.11->tensorflow-intel==2.11.1->tensorflow<2.12,>=2.4.1->basic_pitch) (2.17.1)\n",
      "Requirement already satisfied: markdown>=2.6.8 in c:\\users\\gen80\\anaconda3\\lib\\site-packages (from tensorboard<2.12,>=2.11->tensorflow-intel==2.11.1->tensorflow<2.12,>=2.4.1->basic_pitch) (3.3.4)\n",
      "Requirement already satisfied: tensorboard-plugin-wit>=1.6.0 in c:\\users\\gen80\\anaconda3\\lib\\site-packages (from tensorboard<2.12,>=2.11->tensorflow-intel==2.11.1->tensorflow<2.12,>=2.4.1->basic_pitch) (1.8.1)\n",
      "Requirement already satisfied: google-auth-oauthlib<0.5,>=0.4.1 in c:\\users\\gen80\\appdata\\roaming\\python\\python39\\site-packages (from tensorboard<2.12,>=2.11->tensorflow-intel==2.11.1->tensorflow<2.12,>=2.4.1->basic_pitch) (0.4.6)\n",
      "Requirement already satisfied: werkzeug>=1.0.1 in c:\\users\\gen80\\anaconda3\\lib\\site-packages (from tensorboard<2.12,>=2.11->tensorflow-intel==2.11.1->tensorflow<2.12,>=2.4.1->basic_pitch) (2.0.3)\n",
      "Requirement already satisfied: pyasn1-modules>=0.2.1 in c:\\users\\gen80\\anaconda3\\lib\\site-packages (from google-auth<3,>=1.6.3->tensorboard<2.12,>=2.11->tensorflow-intel==2.11.1->tensorflow<2.12,>=2.4.1->basic_pitch) (0.2.8)\n",
      "Requirement already satisfied: rsa<5,>=3.1.4 in c:\\users\\gen80\\anaconda3\\lib\\site-packages (from google-auth<3,>=1.6.3->tensorboard<2.12,>=2.11->tensorflow-intel==2.11.1->tensorflow<2.12,>=2.4.1->basic_pitch) (4.9)\n",
      "Requirement already satisfied: cachetools<6.0,>=2.0.0 in c:\\users\\gen80\\anaconda3\\lib\\site-packages (from google-auth<3,>=1.6.3->tensorboard<2.12,>=2.11->tensorflow-intel==2.11.1->tensorflow<2.12,>=2.4.1->basic_pitch) (5.3.0)\n",
      "Requirement already satisfied: requests-oauthlib>=0.7.0 in c:\\users\\gen80\\anaconda3\\lib\\site-packages (from google-auth-oauthlib<0.5,>=0.4.1->tensorboard<2.12,>=2.11->tensorflow-intel==2.11.1->tensorflow<2.12,>=2.4.1->basic_pitch) (1.3.1)\n",
      "Requirement already satisfied: pyasn1<0.5.0,>=0.4.6 in c:\\users\\gen80\\anaconda3\\lib\\site-packages (from pyasn1-modules>=0.2.1->google-auth<3,>=1.6.3->tensorboard<2.12,>=2.11->tensorflow-intel==2.11.1->tensorflow<2.12,>=2.4.1->basic_pitch) (0.4.8)\n",
      "Requirement already satisfied: oauthlib>=3.0.0 in c:\\users\\gen80\\anaconda3\\lib\\site-packages (from requests-oauthlib>=0.7.0->google-auth-oauthlib<0.5,>=0.4.1->tensorboard<2.12,>=2.11->tensorflow-intel==2.11.1->tensorflow<2.12,>=2.4.1->basic_pitch) (3.2.2)\n",
      "Installing collected packages: numpy\n",
      "  Attempting uninstall: numpy\n",
      "    Found existing installation: numpy 1.21.5\n",
      "    Uninstalling numpy-1.21.5:\n",
      "      Successfully uninstalled numpy-1.21.5\n",
      "Successfully installed numpy-1.21.0\n"
     ]
    },
    {
     "name": "stderr",
     "output_type": "stream",
     "text": [
      "WARNING: Ignoring invalid distribution -rotobuf (c:\\users\\gen80\\anaconda3\\lib\\site-packages)\n",
      "WARNING: Ignoring invalid distribution -rotobuf (c:\\users\\gen80\\anaconda3\\lib\\site-packages)\n",
      "WARNING: Ignoring invalid distribution -rotobuf (c:\\users\\gen80\\anaconda3\\lib\\site-packages)\n",
      "    WARNING: Ignoring invalid distribution -rotobuf (c:\\users\\gen80\\anaconda3\\lib\\site-packages)\n",
      "WARNING: Ignoring invalid distribution -rotobuf (c:\\users\\gen80\\anaconda3\\lib\\site-packages)\n",
      "ERROR: pip's dependency resolver does not currently take into account all the packages that are installed. This behaviour is the source of the following dependency conflicts.\n",
      "daal4py 2021.6.0 requires daal==2021.4.0, which is not installed.\n",
      "WARNING: Ignoring invalid distribution -rotobuf (c:\\users\\gen80\\anaconda3\\lib\\site-packages)\n",
      "WARNING: Ignoring invalid distribution -rotobuf (c:\\users\\gen80\\anaconda3\\lib\\site-packages)\n",
      "WARNING: Ignoring invalid distribution -rotobuf (c:\\users\\gen80\\anaconda3\\lib\\site-packages)\n"
     ]
    }
   ],
   "source": [
    "!pip install torch torchaudio numpy==1.21 tqdm soundfile basic_pitch MIDIUtil"
   ]
  },
  {
   "cell_type": "code",
   "execution_count": null,
   "id": "dbc235d7",
   "metadata": {},
   "outputs": [],
   "source": [
    "!streamlit run openunmix/cli.py"
   ]
  },
  {
   "cell_type": "code",
   "execution_count": null,
   "id": "a888d337",
   "metadata": {},
   "outputs": [],
   "source": []
  }
 ],
 "metadata": {
  "kernelspec": {
   "display_name": "Python 3 (ipykernel)",
   "language": "python",
   "name": "python3"
  },
  "language_info": {
   "codemirror_mode": {
    "name": "ipython",
    "version": 3
   },
   "file_extension": ".py",
   "mimetype": "text/x-python",
   "name": "python",
   "nbconvert_exporter": "python",
   "pygments_lexer": "ipython3",
   "version": "3.9.13"
  }
 },
 "nbformat": 4,
 "nbformat_minor": 5
}
